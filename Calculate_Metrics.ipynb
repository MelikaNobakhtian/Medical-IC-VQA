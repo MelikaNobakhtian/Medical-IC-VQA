{
  "cells": [
    {
      "cell_type": "markdown",
      "metadata": {
        "id": "LuxRYrSLlklM"
      },
      "source": [
        "# **BLEU**"
      ]
    },
    {
      "cell_type": "markdown",
      "metadata": {
        "id": "UUHlhfTlwXrv"
      },
      "source": [
        "To calculate BLEU for IC, we should use *sentence_bleu* and at the end average all the scores."
      ]
    },
    {
      "cell_type": "code",
      "execution_count": null,
      "metadata": {
        "id": "nXfGLuoIlHvK"
      },
      "outputs": [],
      "source": [
        "from nltk.translate.bleu_score import sentence_bleu, corpus_bleu"
      ]
    },
    {
      "cell_type": "code",
      "execution_count": null,
      "metadata": {
        "id": "weeosnvQls91"
      },
      "outputs": [],
      "source": [
        "ref1 = ['this', 'is', 'game']\n",
        "ref2 = ['why', 'feeling', 'of', 'guilt', 'I', 'am', 'tired']\n",
        "pred1 = ['game', 'is', 'exhausting']\n",
        "pred2 = ['Is', ' this', ' has', 'any', 'end']"
      ]
    },
    {
      "cell_type": "code",
      "execution_count": null,
      "metadata": {
        "id": "XO-vdDZ6qLxl"
      },
      "outputs": [],
      "source": [
        "refs = [[ref1], [ref2]]\n",
        "preds = [pred1, pred2]"
      ]
    },
    {
      "cell_type": "code",
      "execution_count": null,
      "metadata": {
        "id": "eHK-NEbIqZqs"
      },
      "outputs": [],
      "source": [
        "yy = sentence_bleu([ref1], pred1)"
      ]
    },
    {
      "cell_type": "code",
      "execution_count": null,
      "metadata": {
        "colab": {
          "base_uri": "https://localhost:8080/"
        },
        "id": "9sN6uLhhwUu3",
        "outputId": "d72dfb9d-114a-4251-ea83-76e7a005799c"
      },
      "outputs": [
        {
          "data": {
            "text/plain": [
              "1.646211035903463e-231"
            ]
          },
          "execution_count": 12,
          "metadata": {},
          "output_type": "execute_result"
        }
      ],
      "source": [
        "yy"
      ]
    },
    {
      "cell_type": "code",
      "execution_count": null,
      "metadata": {
        "id": "ZrpDU_U5w0Bz"
      },
      "outputs": [],
      "source": [
        "weights_4 = (0.25, 0.25, 0.25, 0.25) # BLEU-4\n",
        "weights_3 = (0.33, 0.33, 0.33, 0)    # BLEU-3\n",
        "weights_2 = (0.5, 0.5, 0, 0)         # BLEU-2\n",
        "weights_1 = (1, 0, 0, 0)             # BLEU-1"
      ]
    },
    {
      "cell_type": "markdown",
      "metadata": {
        "id": "-Pf9XMVRcY0D"
      },
      "source": [
        "## with torchmetrics"
      ]
    },
    {
      "cell_type": "code",
      "execution_count": null,
      "metadata": {
        "id": "lycbRPAxgBMy",
        "colab": {
          "base_uri": "https://localhost:8080/"
        },
        "outputId": "75222d2a-b0d4-4c94-c4e8-12722c2daf7b"
      },
      "outputs": [
        {
          "output_type": "stream",
          "name": "stdout",
          "text": [
            "Collecting torchmetrics\n",
            "  Downloading torchmetrics-1.0.0-py3-none-any.whl (728 kB)\n",
            "\u001b[?25l     \u001b[90m━━━━━━━━━━━━━━━━━━━━━━━━━━━━━━━━━━━━━━━━\u001b[0m \u001b[32m0.0/728.8 kB\u001b[0m \u001b[31m?\u001b[0m eta \u001b[36m-:--:--\u001b[0m\r\u001b[2K     \u001b[91m━━━━━━━━━━━━━━━━━━━━\u001b[0m\u001b[90m╺\u001b[0m\u001b[90m━━━━━━━━━━━━━━━━━\u001b[0m \u001b[32m389.1/728.8 kB\u001b[0m \u001b[31m11.7 MB/s\u001b[0m eta \u001b[36m0:00:01\u001b[0m\r\u001b[2K     \u001b[90m━━━━━━━━━━━━━━━━━━━━━━━━━━━━━━━━━━━━━━\u001b[0m \u001b[32m728.8/728.8 kB\u001b[0m \u001b[31m12.5 MB/s\u001b[0m eta \u001b[36m0:00:00\u001b[0m\n",
            "\u001b[?25hRequirement already satisfied: numpy>1.20.0 in /usr/local/lib/python3.10/dist-packages (from torchmetrics) (1.22.4)\n",
            "Requirement already satisfied: torch>=1.8.1 in /usr/local/lib/python3.10/dist-packages (from torchmetrics) (2.0.1+cu118)\n",
            "Requirement already satisfied: packaging in /usr/local/lib/python3.10/dist-packages (from torchmetrics) (23.1)\n",
            "Collecting lightning-utilities>=0.7.0 (from torchmetrics)\n",
            "  Downloading lightning_utilities-0.9.0-py3-none-any.whl (23 kB)\n",
            "Requirement already satisfied: typing-extensions in /usr/local/lib/python3.10/dist-packages (from lightning-utilities>=0.7.0->torchmetrics) (4.6.3)\n",
            "Requirement already satisfied: filelock in /usr/local/lib/python3.10/dist-packages (from torch>=1.8.1->torchmetrics) (3.12.2)\n",
            "Requirement already satisfied: sympy in /usr/local/lib/python3.10/dist-packages (from torch>=1.8.1->torchmetrics) (1.11.1)\n",
            "Requirement already satisfied: networkx in /usr/local/lib/python3.10/dist-packages (from torch>=1.8.1->torchmetrics) (3.1)\n",
            "Requirement already satisfied: jinja2 in /usr/local/lib/python3.10/dist-packages (from torch>=1.8.1->torchmetrics) (3.1.2)\n",
            "Requirement already satisfied: triton==2.0.0 in /usr/local/lib/python3.10/dist-packages (from torch>=1.8.1->torchmetrics) (2.0.0)\n",
            "Requirement already satisfied: cmake in /usr/local/lib/python3.10/dist-packages (from triton==2.0.0->torch>=1.8.1->torchmetrics) (3.25.2)\n",
            "Requirement already satisfied: lit in /usr/local/lib/python3.10/dist-packages (from triton==2.0.0->torch>=1.8.1->torchmetrics) (16.0.6)\n",
            "Requirement already satisfied: MarkupSafe>=2.0 in /usr/local/lib/python3.10/dist-packages (from jinja2->torch>=1.8.1->torchmetrics) (2.1.3)\n",
            "Requirement already satisfied: mpmath>=0.19 in /usr/local/lib/python3.10/dist-packages (from sympy->torch>=1.8.1->torchmetrics) (1.3.0)\n",
            "Installing collected packages: lightning-utilities, torchmetrics\n",
            "Successfully installed lightning-utilities-0.9.0 torchmetrics-1.0.0\n"
          ]
        }
      ],
      "source": [
        "!pip install torchmetrics"
      ]
    },
    {
      "cell_type": "code",
      "execution_count": null,
      "metadata": {
        "id": "ACbnvmwCchtj"
      },
      "outputs": [],
      "source": [
        "from torchmetrics.functional import bleu_score\n",
        "preds = ['the cat is on the mat', 'a dog on the table']\n",
        "target = [['there is a cat on the mat'], ['there is a dog on the surface']]\n",
        "ff = bleu_score(preds, target)"
      ]
    },
    {
      "cell_type": "code",
      "source": [
        "bl = {'bleu4' : ff.item()}"
      ],
      "metadata": {
        "id": "5noif619q4dO"
      },
      "execution_count": null,
      "outputs": []
    },
    {
      "cell_type": "code",
      "execution_count": null,
      "metadata": {
        "colab": {
          "background_save": true
        },
        "id": "iHuxhvE8gFeS",
        "outputId": "3dd83616-c3ca-4674-d4b6-57e68c751643"
      },
      "outputs": [
        {
          "data": {
            "text/plain": [
              "tensor(0.)"
            ]
          },
          "execution_count": 6,
          "metadata": {},
          "output_type": "execute_result"
        }
      ],
      "source": [
        "from torchmetrics.functional import bleu_score\n",
        "preds = ['the cat is on the mat']\n",
        "target = [['there is a cat on the mat']]\n",
        "bleu_score(preds, target)"
      ]
    },
    {
      "cell_type": "markdown",
      "metadata": {
        "id": "LRsdoyicxpp2"
      },
      "source": [
        "# ROUGE"
      ]
    },
    {
      "cell_type": "markdown",
      "metadata": {
        "id": "Y5q7ZJUa1N9e"
      },
      "source": [
        "In the ImageCLEF2022, ROUGE-1 is used and the important metric is F1-measure."
      ]
    },
    {
      "cell_type": "code",
      "execution_count": null,
      "metadata": {
        "colab": {
          "base_uri": "https://localhost:8080/"
        },
        "id": "cUSRBUSh0c54",
        "outputId": "a167940a-5595-4456-ac9d-90ef3690e466"
      },
      "outputs": [
        {
          "name": "stdout",
          "output_type": "stream",
          "text": [
            "Looking in indexes: https://pypi.org/simple, https://us-python.pkg.dev/colab-wheels/public/simple/\n",
            "Collecting rouge-score\n",
            "  Downloading rouge_score-0.1.2.tar.gz (17 kB)\n",
            "  Preparing metadata (setup.py) ... \u001b[?25l\u001b[?25hdone\n",
            "Requirement already satisfied: absl-py in /usr/local/lib/python3.10/dist-packages (from rouge-score) (1.4.0)\n",
            "Requirement already satisfied: nltk in /usr/local/lib/python3.10/dist-packages (from rouge-score) (3.8.1)\n",
            "Requirement already satisfied: numpy in /usr/local/lib/python3.10/dist-packages (from rouge-score) (1.22.4)\n",
            "Requirement already satisfied: six>=1.14.0 in /usr/local/lib/python3.10/dist-packages (from rouge-score) (1.16.0)\n",
            "Requirement already satisfied: click in /usr/local/lib/python3.10/dist-packages (from nltk->rouge-score) (8.1.3)\n",
            "Requirement already satisfied: joblib in /usr/local/lib/python3.10/dist-packages (from nltk->rouge-score) (1.2.0)\n",
            "Requirement already satisfied: regex>=2021.8.3 in /usr/local/lib/python3.10/dist-packages (from nltk->rouge-score) (2022.10.31)\n",
            "Requirement already satisfied: tqdm in /usr/local/lib/python3.10/dist-packages (from nltk->rouge-score) (4.65.0)\n",
            "Building wheels for collected packages: rouge-score\n",
            "  Building wheel for rouge-score (setup.py) ... \u001b[?25l\u001b[?25hdone\n",
            "  Created wheel for rouge-score: filename=rouge_score-0.1.2-py3-none-any.whl size=24934 sha256=cbeffb89c76d04806db0f5d984f6c81e72e8c09c5f690be1422ef87386e04b02\n",
            "  Stored in directory: /root/.cache/pip/wheels/5f/dd/89/461065a73be61a532ff8599a28e9beef17985c9e9c31e541b4\n",
            "Successfully built rouge-score\n",
            "Installing collected packages: rouge-score\n",
            "Successfully installed rouge-score-0.1.2\n"
          ]
        }
      ],
      "source": [
        "!pip install rouge-score"
      ]
    },
    {
      "cell_type": "code",
      "execution_count": null,
      "metadata": {
        "id": "bPFMzr9n0iVd"
      },
      "outputs": [],
      "source": [
        "from rouge_score import rouge_scorer\n",
        "\n",
        "scorer = rouge_scorer.RougeScorer(['rouge1', 'rouge2', 'rougeL'], use_stemmer=True)\n",
        "scores = scorer.score('The quick brown fox jumps over the lazy dog',\n",
        "                      'The quick brown dog jumps on the log.')"
      ]
    },
    {
      "cell_type": "code",
      "source": [
        "from torchmetrics.text.rouge import ROUGEScore\n",
        "rouge = ROUGEScore()\n",
        "scores = rouge(['The quick brown fox jumps over the lazy dog'], [['The quick brown dog jumps on the log.']])"
      ],
      "metadata": {
        "id": "DI9mnmHixfWu"
      },
      "execution_count": null,
      "outputs": []
    },
    {
      "cell_type": "code",
      "source": [
        "rr = {s:scores[s].item() for s in scores}"
      ],
      "metadata": {
        "id": "Lq_xFQ7GyXhs"
      },
      "execution_count": null,
      "outputs": []
    },
    {
      "cell_type": "code",
      "execution_count": null,
      "metadata": {
        "colab": {
          "base_uri": "https://localhost:8080/"
        },
        "id": "G1n9z4Gm0rbe",
        "outputId": "827fad53-a84d-461c-87ea-b99edc00e726"
      },
      "outputs": [
        {
          "output_type": "execute_result",
          "data": {
            "text/plain": [
              "{'rouge1_fmeasure': tensor(0.7059),\n",
              " 'rouge1_precision': tensor(0.6667),\n",
              " 'rouge1_recall': tensor(0.7500),\n",
              " 'rouge2_fmeasure': tensor(0.2667),\n",
              " 'rouge2_precision': tensor(0.2500),\n",
              " 'rouge2_recall': tensor(0.2857),\n",
              " 'rougeL_fmeasure': tensor(0.5882),\n",
              " 'rougeL_precision': tensor(0.5556),\n",
              " 'rougeL_recall': tensor(0.6250),\n",
              " 'rougeLsum_fmeasure': tensor(0.5882),\n",
              " 'rougeLsum_precision': tensor(0.5556),\n",
              " 'rougeLsum_recall': tensor(0.6250)}"
            ]
          },
          "metadata": {},
          "execution_count": 7
        }
      ],
      "source": [
        "scores"
      ]
    },
    {
      "cell_type": "code",
      "source": [
        "import pandas as pd\n",
        "all_scores = {**bl, **rr}\n",
        "print(all_scores)\n",
        "filename = f\"e.csv\"\n",
        "score_df = pd.DataFrame(data=all_scores, index=[0])"
      ],
      "metadata": {
        "colab": {
          "base_uri": "https://localhost:8080/"
        },
        "id": "Q_4Dzokn0KXO",
        "outputId": "3d08c128-e189-4156-8725-452c152e7b76"
      },
      "execution_count": null,
      "outputs": [
        {
          "output_type": "stream",
          "name": "stdout",
          "text": [
            "{'bleu4': 0.3382312059402466, 'rouge1_fmeasure': 0.7058823704719543, 'rouge1_precision': 0.6666666865348816, 'rouge1_recall': 0.75, 'rouge2_fmeasure': 0.2666666805744171, 'rouge2_precision': 0.25, 'rouge2_recall': 0.2857142984867096, 'rougeL_fmeasure': 0.5882353186607361, 'rougeL_precision': 0.5555555820465088, 'rougeL_recall': 0.625, 'rougeLsum_fmeasure': 0.5882353186607361, 'rougeLsum_precision': 0.5555555820465088, 'rougeLsum_recall': 0.625}\n"
          ]
        }
      ]
    },
    {
      "cell_type": "code",
      "source": [
        "score_df"
      ],
      "metadata": {
        "colab": {
          "base_uri": "https://localhost:8080/",
          "height": 145
        },
        "id": "TagubQIW5CJt",
        "outputId": "71e98452-4595-42cf-8c4b-468e825dd6d3"
      },
      "execution_count": null,
      "outputs": [
        {
          "output_type": "execute_result",
          "data": {
            "text/plain": [
              "      bleu4  rouge1_fmeasure  rouge1_precision  rouge1_recall  \\\n",
              "0  0.338231         0.705882          0.666667           0.75   \n",
              "\n",
              "   rouge2_fmeasure  rouge2_precision  rouge2_recall  rougeL_fmeasure  \\\n",
              "0         0.266667              0.25       0.285714         0.588235   \n",
              "\n",
              "   rougeL_precision  rougeL_recall  rougeLsum_fmeasure  rougeLsum_precision  \\\n",
              "0          0.555556          0.625            0.588235             0.555556   \n",
              "\n",
              "   rougeLsum_recall  \n",
              "0             0.625  "
            ],
            "text/html": [
              "\n",
              "  <div id=\"df-d48d7fa3-97ec-4d96-b940-ccd1422a6755\">\n",
              "    <div class=\"colab-df-container\">\n",
              "      <div>\n",
              "<style scoped>\n",
              "    .dataframe tbody tr th:only-of-type {\n",
              "        vertical-align: middle;\n",
              "    }\n",
              "\n",
              "    .dataframe tbody tr th {\n",
              "        vertical-align: top;\n",
              "    }\n",
              "\n",
              "    .dataframe thead th {\n",
              "        text-align: right;\n",
              "    }\n",
              "</style>\n",
              "<table border=\"1\" class=\"dataframe\">\n",
              "  <thead>\n",
              "    <tr style=\"text-align: right;\">\n",
              "      <th></th>\n",
              "      <th>bleu4</th>\n",
              "      <th>rouge1_fmeasure</th>\n",
              "      <th>rouge1_precision</th>\n",
              "      <th>rouge1_recall</th>\n",
              "      <th>rouge2_fmeasure</th>\n",
              "      <th>rouge2_precision</th>\n",
              "      <th>rouge2_recall</th>\n",
              "      <th>rougeL_fmeasure</th>\n",
              "      <th>rougeL_precision</th>\n",
              "      <th>rougeL_recall</th>\n",
              "      <th>rougeLsum_fmeasure</th>\n",
              "      <th>rougeLsum_precision</th>\n",
              "      <th>rougeLsum_recall</th>\n",
              "    </tr>\n",
              "  </thead>\n",
              "  <tbody>\n",
              "    <tr>\n",
              "      <th>0</th>\n",
              "      <td>0.338231</td>\n",
              "      <td>0.705882</td>\n",
              "      <td>0.666667</td>\n",
              "      <td>0.75</td>\n",
              "      <td>0.266667</td>\n",
              "      <td>0.25</td>\n",
              "      <td>0.285714</td>\n",
              "      <td>0.588235</td>\n",
              "      <td>0.555556</td>\n",
              "      <td>0.625</td>\n",
              "      <td>0.588235</td>\n",
              "      <td>0.555556</td>\n",
              "      <td>0.625</td>\n",
              "    </tr>\n",
              "  </tbody>\n",
              "</table>\n",
              "</div>\n",
              "      <button class=\"colab-df-convert\" onclick=\"convertToInteractive('df-d48d7fa3-97ec-4d96-b940-ccd1422a6755')\"\n",
              "              title=\"Convert this dataframe to an interactive table.\"\n",
              "              style=\"display:none;\">\n",
              "        \n",
              "  <svg xmlns=\"http://www.w3.org/2000/svg\" height=\"24px\"viewBox=\"0 0 24 24\"\n",
              "       width=\"24px\">\n",
              "    <path d=\"M0 0h24v24H0V0z\" fill=\"none\"/>\n",
              "    <path d=\"M18.56 5.44l.94 2.06.94-2.06 2.06-.94-2.06-.94-.94-2.06-.94 2.06-2.06.94zm-11 1L8.5 8.5l.94-2.06 2.06-.94-2.06-.94L8.5 2.5l-.94 2.06-2.06.94zm10 10l.94 2.06.94-2.06 2.06-.94-2.06-.94-.94-2.06-.94 2.06-2.06.94z\"/><path d=\"M17.41 7.96l-1.37-1.37c-.4-.4-.92-.59-1.43-.59-.52 0-1.04.2-1.43.59L10.3 9.45l-7.72 7.72c-.78.78-.78 2.05 0 2.83L4 21.41c.39.39.9.59 1.41.59.51 0 1.02-.2 1.41-.59l7.78-7.78 2.81-2.81c.8-.78.8-2.07 0-2.86zM5.41 20L4 18.59l7.72-7.72 1.47 1.35L5.41 20z\"/>\n",
              "  </svg>\n",
              "      </button>\n",
              "      \n",
              "  <style>\n",
              "    .colab-df-container {\n",
              "      display:flex;\n",
              "      flex-wrap:wrap;\n",
              "      gap: 12px;\n",
              "    }\n",
              "\n",
              "    .colab-df-convert {\n",
              "      background-color: #E8F0FE;\n",
              "      border: none;\n",
              "      border-radius: 50%;\n",
              "      cursor: pointer;\n",
              "      display: none;\n",
              "      fill: #1967D2;\n",
              "      height: 32px;\n",
              "      padding: 0 0 0 0;\n",
              "      width: 32px;\n",
              "    }\n",
              "\n",
              "    .colab-df-convert:hover {\n",
              "      background-color: #E2EBFA;\n",
              "      box-shadow: 0px 1px 2px rgba(60, 64, 67, 0.3), 0px 1px 3px 1px rgba(60, 64, 67, 0.15);\n",
              "      fill: #174EA6;\n",
              "    }\n",
              "\n",
              "    [theme=dark] .colab-df-convert {\n",
              "      background-color: #3B4455;\n",
              "      fill: #D2E3FC;\n",
              "    }\n",
              "\n",
              "    [theme=dark] .colab-df-convert:hover {\n",
              "      background-color: #434B5C;\n",
              "      box-shadow: 0px 1px 3px 1px rgba(0, 0, 0, 0.15);\n",
              "      filter: drop-shadow(0px 1px 2px rgba(0, 0, 0, 0.3));\n",
              "      fill: #FFFFFF;\n",
              "    }\n",
              "  </style>\n",
              "\n",
              "      <script>\n",
              "        const buttonEl =\n",
              "          document.querySelector('#df-d48d7fa3-97ec-4d96-b940-ccd1422a6755 button.colab-df-convert');\n",
              "        buttonEl.style.display =\n",
              "          google.colab.kernel.accessAllowed ? 'block' : 'none';\n",
              "\n",
              "        async function convertToInteractive(key) {\n",
              "          const element = document.querySelector('#df-d48d7fa3-97ec-4d96-b940-ccd1422a6755');\n",
              "          const dataTable =\n",
              "            await google.colab.kernel.invokeFunction('convertToInteractive',\n",
              "                                                     [key], {});\n",
              "          if (!dataTable) return;\n",
              "\n",
              "          const docLinkHtml = 'Like what you see? Visit the ' +\n",
              "            '<a target=\"_blank\" href=https://colab.research.google.com/notebooks/data_table.ipynb>data table notebook</a>'\n",
              "            + ' to learn more about interactive tables.';\n",
              "          element.innerHTML = '';\n",
              "          dataTable['output_type'] = 'display_data';\n",
              "          await google.colab.output.renderOutput(dataTable, element);\n",
              "          const docLink = document.createElement('div');\n",
              "          docLink.innerHTML = docLinkHtml;\n",
              "          element.appendChild(docLink);\n",
              "        }\n",
              "      </script>\n",
              "    </div>\n",
              "  </div>\n",
              "  "
            ]
          },
          "metadata": {},
          "execution_count": 16
        }
      ]
    },
    {
      "cell_type": "code",
      "source": [
        "score_df.to_csv( filename, index=False, header=None\n",
        "    )"
      ],
      "metadata": {
        "id": "AXmdIFGz36Dd"
      },
      "execution_count": null,
      "outputs": []
    },
    {
      "cell_type": "code",
      "execution_count": null,
      "metadata": {
        "colab": {
          "background_save": true
        },
        "id": "Dhn9EgfxE0tT"
      },
      "outputs": [],
      "source": [
        "from torchmetrics.text.rouge import ROUGEScore"
      ]
    },
    {
      "cell_type": "markdown",
      "metadata": {
        "id": "C54V_ICJ1fm9"
      },
      "source": [
        "# METEOR"
      ]
    },
    {
      "cell_type": "markdown",
      "metadata": {
        "id": "eA4uqsGo9OZv"
      },
      "source": [
        "It seems that this metric is less popular among other metrics and mostly is used for Machine Translation.\n",
        "It has a nltk implementation but I'm not sure about some of the function parameters."
      ]
    },
    {
      "cell_type": "code",
      "execution_count": null,
      "metadata": {
        "id": "5VOoe6ck9N4N"
      },
      "outputs": [],
      "source": [
        "from nltk.translate import meteor\n",
        "\n",
        "def calculate_meteor(candidate, reference):\n",
        "  '''\n",
        "  candidate, reference: tokenized list of words in the sentence\n",
        "  '''\n",
        "  reference = word_tokenize(reference)\n",
        "  candidate = word_tokenize(candidate)\n",
        "  meteor_score = round(meteor([candidate],reference), 4)\n",
        "  return meteor_score"
      ]
    },
    {
      "cell_type": "markdown",
      "metadata": {
        "id": "dYATvcw--JfO"
      },
      "source": [
        "# CIDEr"
      ]
    },
    {
      "cell_type": "markdown",
      "metadata": {
        "id": "A0LRppThBIUs"
      },
      "source": [
        "!pip install pycocoevalcap\n",
        "it seems that library can calculate many of these metrics for coco and also it is applicable for other datasets.\n",
        "But I think that the best metrics that we really need are ***BLEU, ROUGE and BERTScore.***"
      ]
    },
    {
      "cell_type": "markdown",
      "metadata": {
        "id": "7VRfOqbBCKlH"
      },
      "source": [
        "github repo : ***https://github.com/tylin/coco-caption/tree/master/pycocoevalcap***"
      ]
    }
  ],
  "metadata": {
    "colab": {
      "provenance": []
    },
    "kernelspec": {
      "display_name": "Python 3",
      "name": "python3"
    },
    "language_info": {
      "name": "python"
    }
  },
  "nbformat": 4,
  "nbformat_minor": 0
}